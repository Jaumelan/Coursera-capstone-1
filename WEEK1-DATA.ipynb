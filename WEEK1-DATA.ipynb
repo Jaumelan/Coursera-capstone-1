{
 "cells": [
  {
   "cell_type": "markdown",
   "metadata": {},
   "source": [
    "# DATA"
   ]
  },
  {
   "cell_type": "markdown",
   "metadata": {},
   "source": [
    "This project uses data from 4 sources: San Francisco Police Department, Foursquare, RentCafé, and DataSF's. Since the real estate company will only work with clients that want to rent, we are not including average buying prices for each neighborhood. I chose RentCafé because it provides a table with the average rent price for each neighborhood. From Foursquare we can get all the venues related to food, and get data about the interest in food. Using an API on DATASF, we get the information about business end dates of restaurants by each neighborhood. We also count the average incidents by neighborhood in San Francisco using the data from the San Francisco Police Department."
   ]
  },
  {
   "cell_type": "code",
   "execution_count": null,
   "metadata": {},
   "outputs": [],
   "source": []
  }
 ],
 "metadata": {
  "kernelspec": {
   "display_name": "Python 3",
   "language": "python",
   "name": "python3"
  },
  "language_info": {
   "codemirror_mode": {
    "name": "ipython",
    "version": 3
   },
   "file_extension": ".py",
   "mimetype": "text/x-python",
   "name": "python",
   "nbconvert_exporter": "python",
   "pygments_lexer": "ipython3",
   "version": "3.6.8"
  }
 },
 "nbformat": 4,
 "nbformat_minor": 2
}
